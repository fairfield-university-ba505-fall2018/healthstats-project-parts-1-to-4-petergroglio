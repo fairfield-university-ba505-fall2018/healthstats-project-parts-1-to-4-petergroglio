{
 "cells": [
  {
   "cell_type": "markdown",
   "metadata": {},
   "source": [
    "# Health Stats Part 2: Dictionaries"
   ]
  },
  {
   "cell_type": "markdown",
   "metadata": {},
   "source": [
    "<!--- Paste in your explanation of Waist-to-Hip ratios from Part 1. --->\n",
    "Waist-to-hip ratio is a ratio of the circumference of the waist to that of the hips. To calculate it you take the size of your hips vs your waist. Waist divided by hip measurement (W ÷ H). "
   ]
  },
  {
   "cell_type": "markdown",
   "metadata": {},
   "source": [
    "## Source Data "
   ]
  },
  {
   "cell_type": "markdown",
   "metadata": {},
   "source": [
    "<!--- Paste in your data definitions from Part 1. Then Try to organize them into a table in Markdown. --->\n",
    "* ID (integer)\n",
    "* Waist (integer)\n",
    "* Hip (integer)\n",
    "* Gender (string)"
   ]
  },
  {
   "cell_type": "markdown",
   "metadata": {},
   "source": [
    "## Data Import"
   ]
  },
  {
   "cell_type": "code",
   "execution_count": 5,
   "metadata": {},
   "outputs": [],
   "source": [
    "# Goal: Extract the data from the file\n",
    "\n",
    "# opens the w2h_data.csv for reading\n",
    "f = open(\"w2h_data.csv\", \"r\")\n",
    "\n",
    "# loads the file into a list of strings, one string per line\n",
    "raw_lines = list(f)\n",
    "\n",
    "# closes the file\n",
    "f.close()"
   ]
  },
  {
   "cell_type": "code",
   "execution_count": 12,
   "metadata": {
    "collapsed": true
   },
   "outputs": [
    {
     "name": "stdout",
     "output_type": "stream",
     "text": [
      "[{'ID': 1, 'Waist': 30, 'Hip': 32, 'Gender': 'M'}, {'ID': 2, 'Waist': 32, 'Hip': 37, 'Gender': 'M'}, {'ID': 3, 'Waist': 30, 'Hip': 36, 'Gender': 'M'}, {'ID': 4, 'Waist': 33, 'Hip': 39, 'Gender': 'M'}, {'ID': 5, 'Waist': 29, 'Hip': 33, 'Gender': 'M'}, {'ID': 6, 'Waist': 32, 'Hip': 38, 'Gender': 'M'}, {'ID': 7, 'Waist': 33, 'Hip': 42, 'Gender': 'M'}, {'ID': 8, 'Waist': 30, 'Hip': 40, 'Gender': 'M'}, {'ID': 9, 'Waist': 30, 'Hip': 37, 'Gender': 'M'}, {'ID': 10, 'Waist': 32, 'Hip': 39, 'Gender': 'M'}, {'ID': 11, 'Waist': 24, 'Hip': 35, 'Gender': 'F'}, {'ID': 12, 'Waist': 25, 'Hip': 37, 'Gender': 'F'}, {'ID': 13, 'Waist': 24, 'Hip': 37, 'Gender': 'F'}, {'ID': 14, 'Waist': 22, 'Hip': 34, 'Gender': 'F'}, {'ID': 15, 'Waist': 26, 'Hip': 38, 'Gender': 'F'}, {'ID': 16, 'Waist': 26, 'Hip': 37, 'Gender': 'F'}, {'ID': 17, 'Waist': 25, 'Hip': 38, 'Gender': 'F'}, {'ID': 18, 'Waist': 26, 'Hip': 37, 'Gender': 'F'}, {'ID': 19, 'Waist': 28, 'Hip': 40, 'Gender': 'F'}, {'ID': 20, 'Waist': 23, 'Hip': 35, 'Gender': 'F'}]\n"
     ]
    }
   ],
   "source": [
    "# Goal: Scrub and convert the data, loading it into a new list called rows\n",
    "\n",
    "# Strips out newline '\\n' characters and converts to a list\n",
    "raw_rows = [r.rstrip('\\n').split(',') for r in raw_lines] # <--- Whoa. Why does this work? \n",
    "\n",
    "#Store Each Row as a Dictionary Instead of a List  \n",
    "rows=[]\n",
    "columns=raw_rows[0]\n",
    "\n",
    "for raw_row in raw_rows[1:]:\n",
    "        rows += [dict(zip(columns,[int(raw_row[0]),int(raw_row[1]),int(raw_row[2]),raw_row[3]]))]  \n",
    "\n",
    "# from here on out use the rows list instead of raw_rows or raw_lines\n",
    "print(rows)"
   ]
  },
  {
   "cell_type": "markdown",
   "metadata": {},
   "source": [
    "## Calculations"
   ]
  },
  {
   "cell_type": "code",
   "execution_count": 16,
   "metadata": {
    "collapsed": true
   },
   "outputs": [
    {
     "data": {
      "text/plain": [
       "[{'ID': 1,\n",
       "  'Waist': 30,\n",
       "  'Hip': 32,\n",
       "  'Gender': 'M',\n",
       "  'W2H Ratio': 0.9375,\n",
       "  'Shape': 'Apple'},\n",
       " {'ID': 2,\n",
       "  'Waist': 32,\n",
       "  'Hip': 37,\n",
       "  'Gender': 'M',\n",
       "  'W2H Ratio': 0.8648648648648649,\n",
       "  'Shape': 'Pear'},\n",
       " {'ID': 3,\n",
       "  'Waist': 30,\n",
       "  'Hip': 36,\n",
       "  'Gender': 'M',\n",
       "  'W2H Ratio': 0.8333333333333334,\n",
       "  'Shape': 'Pear'},\n",
       " {'ID': 4,\n",
       "  'Waist': 33,\n",
       "  'Hip': 39,\n",
       "  'Gender': 'M',\n",
       "  'W2H Ratio': 0.8461538461538461,\n",
       "  'Shape': 'Pear'},\n",
       " {'ID': 5,\n",
       "  'Waist': 29,\n",
       "  'Hip': 33,\n",
       "  'Gender': 'M',\n",
       "  'W2H Ratio': 0.8787878787878788,\n",
       "  'Shape': 'Pear'},\n",
       " {'ID': 6,\n",
       "  'Waist': 32,\n",
       "  'Hip': 38,\n",
       "  'Gender': 'M',\n",
       "  'W2H Ratio': 0.8421052631578947,\n",
       "  'Shape': 'Pear'},\n",
       " {'ID': 7,\n",
       "  'Waist': 33,\n",
       "  'Hip': 42,\n",
       "  'Gender': 'M',\n",
       "  'W2H Ratio': 0.7857142857142857,\n",
       "  'Shape': 'Pear'},\n",
       " {'ID': 8,\n",
       "  'Waist': 30,\n",
       "  'Hip': 40,\n",
       "  'Gender': 'M',\n",
       "  'W2H Ratio': 0.75,\n",
       "  'Shape': 'Pear'},\n",
       " {'ID': 9,\n",
       "  'Waist': 30,\n",
       "  'Hip': 37,\n",
       "  'Gender': 'M',\n",
       "  'W2H Ratio': 0.8108108108108109,\n",
       "  'Shape': 'Pear'},\n",
       " {'ID': 10,\n",
       "  'Waist': 32,\n",
       "  'Hip': 39,\n",
       "  'Gender': 'M',\n",
       "  'W2H Ratio': 0.8205128205128205,\n",
       "  'Shape': 'Pear'},\n",
       " {'ID': 11,\n",
       "  'Waist': 24,\n",
       "  'Hip': 35,\n",
       "  'Gender': 'F',\n",
       "  'W2H Ratio': 0.6857142857142857,\n",
       "  'Shape': 'Pear'},\n",
       " {'ID': 12,\n",
       "  'Waist': 25,\n",
       "  'Hip': 37,\n",
       "  'Gender': 'F',\n",
       "  'W2H Ratio': 0.6756756756756757,\n",
       "  'Shape': 'Pear'},\n",
       " {'ID': 13,\n",
       "  'Waist': 24,\n",
       "  'Hip': 37,\n",
       "  'Gender': 'F',\n",
       "  'W2H Ratio': 0.6486486486486487,\n",
       "  'Shape': 'Pear'},\n",
       " {'ID': 14,\n",
       "  'Waist': 22,\n",
       "  'Hip': 34,\n",
       "  'Gender': 'F',\n",
       "  'W2H Ratio': 0.6470588235294118,\n",
       "  'Shape': 'Pear'},\n",
       " {'ID': 15,\n",
       "  'Waist': 26,\n",
       "  'Hip': 38,\n",
       "  'Gender': 'F',\n",
       "  'W2H Ratio': 0.6842105263157895,\n",
       "  'Shape': 'Pear'},\n",
       " {'ID': 16,\n",
       "  'Waist': 26,\n",
       "  'Hip': 37,\n",
       "  'Gender': 'F',\n",
       "  'W2H Ratio': 0.7027027027027027,\n",
       "  'Shape': 'Pear'},\n",
       " {'ID': 17,\n",
       "  'Waist': 25,\n",
       "  'Hip': 38,\n",
       "  'Gender': 'F',\n",
       "  'W2H Ratio': 0.6578947368421053,\n",
       "  'Shape': 'Pear'},\n",
       " {'ID': 18,\n",
       "  'Waist': 26,\n",
       "  'Hip': 37,\n",
       "  'Gender': 'F',\n",
       "  'W2H Ratio': 0.7027027027027027,\n",
       "  'Shape': 'Pear'},\n",
       " {'ID': 19,\n",
       "  'Waist': 28,\n",
       "  'Hip': 40,\n",
       "  'Gender': 'F',\n",
       "  'W2H Ratio': 0.7,\n",
       "  'Shape': 'Pear'},\n",
       " {'ID': 20,\n",
       "  'Waist': 23,\n",
       "  'Hip': 35,\n",
       "  'Gender': 'F',\n",
       "  'W2H Ratio': 0.6571428571428571,\n",
       "  'Shape': 'Pear'}]"
      ]
     },
     "execution_count": 16,
     "metadata": {},
     "output_type": "execute_result"
    }
   ],
   "source": [
    "# Goal: For each row of data calculate and store the w2h_ratio and shape.\n",
    "\n",
    "for row in rows[:]:\n",
    "    row['W2H Ratio'] = float(row['Waist'])/float(row['Hip'])\n",
    "    if ((row['Gender']=='M' and row['W2H Ratio'] > 0.9) or (row['Gender'] =='F' and row['W2H Ratio'] > 0.8)) :\n",
    "         row['Shape'] =\"Apple\"\n",
    "    else:\n",
    "        row['Shape'] =\"Pear\"\n",
    "    \n",
    "rows"
   ]
  },
  {
   "cell_type": "markdown",
   "metadata": {},
   "source": [
    "## Output"
   ]
  },
  {
   "cell_type": "code",
   "execution_count": 19,
   "metadata": {},
   "outputs": [
    {
     "data": {
      "text/html": [
       "<table><tr><th>ID</th><th>Waist</th><th>Hip</th><th>Gender</th><th>W2H Ratio</th><th>Shape</th></tr><tr><td>1</td><td>30</td><td>32</td><td>M</td><td>0.9375</td><td>Apple</td></tr><tr><td>2</td><td>32</td><td>37</td><td>M</td><td>0.8648648648648649</td><td>Pear</td></tr><tr><td>3</td><td>30</td><td>36</td><td>M</td><td>0.8333333333333334</td><td>Pear</td></tr><tr><td>4</td><td>33</td><td>39</td><td>M</td><td>0.8461538461538461</td><td>Pear</td></tr><tr><td>5</td><td>29</td><td>33</td><td>M</td><td>0.8787878787878788</td><td>Pear</td></tr><tr><td>6</td><td>32</td><td>38</td><td>M</td><td>0.8421052631578947</td><td>Pear</td></tr><tr><td>7</td><td>33</td><td>42</td><td>M</td><td>0.7857142857142857</td><td>Pear</td></tr><tr><td>8</td><td>30</td><td>40</td><td>M</td><td>0.75</td><td>Pear</td></tr><tr><td>9</td><td>30</td><td>37</td><td>M</td><td>0.8108108108108109</td><td>Pear</td></tr><tr><td>10</td><td>32</td><td>39</td><td>M</td><td>0.8205128205128205</td><td>Pear</td></tr><tr><td>11</td><td>24</td><td>35</td><td>F</td><td>0.6857142857142857</td><td>Pear</td></tr><tr><td>12</td><td>25</td><td>37</td><td>F</td><td>0.6756756756756757</td><td>Pear</td></tr><tr><td>13</td><td>24</td><td>37</td><td>F</td><td>0.6486486486486487</td><td>Pear</td></tr><tr><td>14</td><td>22</td><td>34</td><td>F</td><td>0.6470588235294118</td><td>Pear</td></tr><tr><td>15</td><td>26</td><td>38</td><td>F</td><td>0.6842105263157895</td><td>Pear</td></tr><tr><td>16</td><td>26</td><td>37</td><td>F</td><td>0.7027027027027027</td><td>Pear</td></tr><tr><td>17</td><td>25</td><td>38</td><td>F</td><td>0.6578947368421053</td><td>Pear</td></tr><tr><td>18</td><td>26</td><td>37</td><td>F</td><td>0.7027027027027027</td><td>Pear</td></tr><tr><td>19</td><td>28</td><td>40</td><td>F</td><td>0.7</td><td>Pear</td></tr><tr><td>20</td><td>23</td><td>35</td><td>F</td><td>0.6571428571428571</td><td>Pear</td></tr></table>"
      ],
      "text/plain": [
       "<IPython.core.display.HTML object>"
      ]
     },
     "metadata": {},
     "output_type": "display_data"
    }
   ],
   "source": [
    "# Goal: pretty print the rows as an HTML table\n",
    "\n",
    "# Note: this works, but we can do this much better with pandas\n",
    "html_table = '<table><tr><th>'\n",
    "html_table += \"</th><th>\".join(rows[0])\n",
    "html_table += '</th></tr>'\n",
    "for row in rows[:]:\n",
    "    html_table += \"<tr><td>\"\n",
    "    html_table += \"</td><td>\".join(str(col) for col in row.values())\n",
    "    html_table += \"</td></tr>\"\n",
    "html_table += \"</table>\"\n",
    "\n",
    "from IPython.display import HTML, display\n",
    "display(HTML(html_table))"
   ]
  },
  {
   "cell_type": "code",
   "execution_count": 21,
   "metadata": {},
   "outputs": [],
   "source": [
    "#Use Python to write the HTML table\n",
    "html_file=open(\"StatsResults.html\",\"w\")\n",
    "html_file.write(html_table)\n",
    "html_file.close()"
   ]
  },
  {
   "cell_type": "code",
   "execution_count": null,
   "metadata": {},
   "outputs": [],
   "source": []
  }
 ],
 "metadata": {
  "kernelspec": {
   "display_name": "Python 3",
   "language": "python",
   "name": "python3"
  },
  "language_info": {
   "codemirror_mode": {
    "name": "ipython",
    "version": 3
   },
   "file_extension": ".py",
   "mimetype": "text/x-python",
   "name": "python",
   "nbconvert_exporter": "python",
   "pygments_lexer": "ipython3",
   "version": "3.6.5"
  }
 },
 "nbformat": 4,
 "nbformat_minor": 2
}
